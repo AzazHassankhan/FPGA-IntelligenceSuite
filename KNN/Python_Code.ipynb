{
 "cells": [
  {
   "cell_type": "code",
   "execution_count": 78,
   "metadata": {},
   "outputs": [],
   "source": [
    "import plotly.offline as pox\n",
    "import plotly.graph_objs as go\n",
    "import numpy as np\n",
    "import talib as tl\n",
    "import matplotlib.pyplot as plt\n",
    "import pandas as pd\n",
    "import numpy as np\n",
    "import talib as ta\n",
    "from sklearn.model_selection import train_test_split\n",
    "from sklearn.metrics import accuracy_score,classification_report\n",
    "import alpaca_trade_api as tradeapi\n",
    "from alpaca_trade_api import TimeFrame, TimeFrameUnit\n",
    "from sklearn.ensemble import RandomForestClassifier\n",
    "from sklearn.preprocessing import StandardScaler\n",
    "import seaborn as sns\n",
    "from matplotlib.pyplot import figure\n",
    "from statsmodels.tsa.stattools import adfuller\n",
    "from sklearn.svm import SVC\n",
    "from sklearn.neighbors import KNeighborsClassifier\n",
    "from sklearn.linear_model import LogisticRegression\n",
    "from sklearn.ensemble import AdaBoostClassifier\n",
    "from math import exp"
   ]
  },
  {
   "cell_type": "code",
   "execution_count": 79,
   "metadata": {},
   "outputs": [
    {
     "data": {
      "text/html": [
       "<div>\n",
       "<style scoped>\n",
       "    .dataframe tbody tr th:only-of-type {\n",
       "        vertical-align: middle;\n",
       "    }\n",
       "\n",
       "    .dataframe tbody tr th {\n",
       "        vertical-align: top;\n",
       "    }\n",
       "\n",
       "    .dataframe thead th {\n",
       "        text-align: right;\n",
       "    }\n",
       "</style>\n",
       "<table border=\"1\" class=\"dataframe\">\n",
       "  <thead>\n",
       "    <tr style=\"text-align: right;\">\n",
       "      <th></th>\n",
       "      <th>timestamp</th>\n",
       "      <th>open</th>\n",
       "      <th>high</th>\n",
       "      <th>low</th>\n",
       "      <th>close</th>\n",
       "      <th>volume</th>\n",
       "      <th>trade_count</th>\n",
       "      <th>vwap</th>\n",
       "    </tr>\n",
       "  </thead>\n",
       "  <tbody>\n",
       "    <tr>\n",
       "      <th>0</th>\n",
       "      <td>2016-01-04 05:00:00+00:00</td>\n",
       "      <td>102.61</td>\n",
       "      <td>105.368</td>\n",
       "      <td>102.00</td>\n",
       "      <td>105.35</td>\n",
       "      <td>67611658</td>\n",
       "      <td>351450</td>\n",
       "      <td>104.048524</td>\n",
       "    </tr>\n",
       "    <tr>\n",
       "      <th>1</th>\n",
       "      <td>2016-01-05 05:00:00+00:00</td>\n",
       "      <td>105.75</td>\n",
       "      <td>105.850</td>\n",
       "      <td>102.41</td>\n",
       "      <td>102.71</td>\n",
       "      <td>55787192</td>\n",
       "      <td>321363</td>\n",
       "      <td>103.415766</td>\n",
       "    </tr>\n",
       "    <tr>\n",
       "      <th>2</th>\n",
       "      <td>2016-01-06 05:00:00+00:00</td>\n",
       "      <td>100.48</td>\n",
       "      <td>102.370</td>\n",
       "      <td>99.87</td>\n",
       "      <td>100.70</td>\n",
       "      <td>68340388</td>\n",
       "      <td>409162</td>\n",
       "      <td>100.852488</td>\n",
       "    </tr>\n",
       "    <tr>\n",
       "      <th>3</th>\n",
       "      <td>2016-01-07 05:00:00+00:00</td>\n",
       "      <td>98.63</td>\n",
       "      <td>100.130</td>\n",
       "      <td>96.43</td>\n",
       "      <td>96.45</td>\n",
       "      <td>81094357</td>\n",
       "      <td>462834</td>\n",
       "      <td>98.069324</td>\n",
       "    </tr>\n",
       "    <tr>\n",
       "      <th>4</th>\n",
       "      <td>2016-01-08 05:00:00+00:00</td>\n",
       "      <td>98.55</td>\n",
       "      <td>99.110</td>\n",
       "      <td>96.76</td>\n",
       "      <td>96.96</td>\n",
       "      <td>70797966</td>\n",
       "      <td>419804</td>\n",
       "      <td>97.923007</td>\n",
       "    </tr>\n",
       "  </tbody>\n",
       "</table>\n",
       "</div>"
      ],
      "text/plain": [
       "                  timestamp    open     high     low   close    volume  \\\n",
       "0 2016-01-04 05:00:00+00:00  102.61  105.368  102.00  105.35  67611658   \n",
       "1 2016-01-05 05:00:00+00:00  105.75  105.850  102.41  102.71  55787192   \n",
       "2 2016-01-06 05:00:00+00:00  100.48  102.370   99.87  100.70  68340388   \n",
       "3 2016-01-07 05:00:00+00:00   98.63  100.130   96.43   96.45  81094357   \n",
       "4 2016-01-08 05:00:00+00:00   98.55   99.110   96.76   96.96  70797966   \n",
       "\n",
       "   trade_count        vwap  \n",
       "0       351450  104.048524  \n",
       "1       321363  103.415766  \n",
       "2       409162  100.852488  \n",
       "3       462834   98.069324  \n",
       "4       419804   97.923007  "
      ]
     },
     "execution_count": 79,
     "metadata": {},
     "output_type": "execute_result"
    }
   ],
   "source": [
    "SEC_KEY = 'IBpWZnzOVLT8nUNZMwbfWg9oV0sZrkAHPQYtsRFP'\n",
    "PUB_KEY ='PKBEIUYRXMQIO5JXOBAJ'\n",
    "BASE_URL ='https://paper-api.alpaca.markets'\n",
    "api = tradeapi.REST(key_id= PUB_KEY, secret_key=SEC_KEY, base_url=BASE_URL) # For real trading, don't enter a base_url\n",
    "df = api.get_bars(\"AAPL\", TimeFrame(1, TimeFrameUnit.Day), \"2016-01-01\", \"2023-01-01\").df # Get one bar object for each of the past 5 minutes\n",
    "df.reset_index(inplace=True)\n",
    "df.head()"
   ]
  },
  {
   "cell_type": "code",
   "execution_count": 80,
   "metadata": {},
   "outputs": [
    {
     "data": {
      "text/html": [
       "<div>\n",
       "<style scoped>\n",
       "    .dataframe tbody tr th:only-of-type {\n",
       "        vertical-align: middle;\n",
       "    }\n",
       "\n",
       "    .dataframe tbody tr th {\n",
       "        vertical-align: top;\n",
       "    }\n",
       "\n",
       "    .dataframe thead th {\n",
       "        text-align: right;\n",
       "    }\n",
       "</style>\n",
       "<table border=\"1\" class=\"dataframe\">\n",
       "  <thead>\n",
       "    <tr style=\"text-align: right;\">\n",
       "      <th></th>\n",
       "      <th>timestamp</th>\n",
       "      <th>open</th>\n",
       "      <th>high</th>\n",
       "      <th>low</th>\n",
       "      <th>close</th>\n",
       "      <th>volume</th>\n",
       "      <th>trade_count</th>\n",
       "      <th>vwap</th>\n",
       "    </tr>\n",
       "  </thead>\n",
       "  <tbody>\n",
       "    <tr>\n",
       "      <th>1409</th>\n",
       "      <td>2021-08-09 04:00:00+00:00</td>\n",
       "      <td>146.20</td>\n",
       "      <td>14670.00</td>\n",
       "      <td>14552.0</td>\n",
       "      <td>14609.0</td>\n",
       "      <td>48857702</td>\n",
       "      <td>351878</td>\n",
       "      <td>146.111166</td>\n",
       "    </tr>\n",
       "    <tr>\n",
       "      <th>1410</th>\n",
       "      <td>2021-08-10 04:00:00+00:00</td>\n",
       "      <td>146.44</td>\n",
       "      <td>14771.00</td>\n",
       "      <td>14530.0</td>\n",
       "      <td>14560.0</td>\n",
       "      <td>68980001</td>\n",
       "      <td>430863</td>\n",
       "      <td>146.126086</td>\n",
       "    </tr>\n",
       "    <tr>\n",
       "      <th>1411</th>\n",
       "      <td>2021-08-11 04:00:00+00:00</td>\n",
       "      <td>146.05</td>\n",
       "      <td>14672.00</td>\n",
       "      <td>14553.0</td>\n",
       "      <td>14586.0</td>\n",
       "      <td>48420536</td>\n",
       "      <td>364779</td>\n",
       "      <td>146.022670</td>\n",
       "    </tr>\n",
       "    <tr>\n",
       "      <th>1412</th>\n",
       "      <td>2021-08-12 04:00:00+00:00</td>\n",
       "      <td>146.19</td>\n",
       "      <td>14905.00</td>\n",
       "      <td>14584.0</td>\n",
       "      <td>14889.0</td>\n",
       "      <td>73757305</td>\n",
       "      <td>514473</td>\n",
       "      <td>148.010325</td>\n",
       "    </tr>\n",
       "    <tr>\n",
       "      <th>1413</th>\n",
       "      <td>2021-08-13 04:00:00+00:00</td>\n",
       "      <td>148.97</td>\n",
       "      <td>14944.44</td>\n",
       "      <td>14827.0</td>\n",
       "      <td>14910.0</td>\n",
       "      <td>59352311</td>\n",
       "      <td>407701</td>\n",
       "      <td>148.919361</td>\n",
       "    </tr>\n",
       "  </tbody>\n",
       "</table>\n",
       "</div>"
      ],
      "text/plain": [
       "                     timestamp    open      high      low    close    volume  \\\n",
       "1409 2021-08-09 04:00:00+00:00  146.20  14670.00  14552.0  14609.0  48857702   \n",
       "1410 2021-08-10 04:00:00+00:00  146.44  14771.00  14530.0  14560.0  68980001   \n",
       "1411 2021-08-11 04:00:00+00:00  146.05  14672.00  14553.0  14586.0  48420536   \n",
       "1412 2021-08-12 04:00:00+00:00  146.19  14905.00  14584.0  14889.0  73757305   \n",
       "1413 2021-08-13 04:00:00+00:00  148.97  14944.44  14827.0  14910.0  59352311   \n",
       "\n",
       "      trade_count        vwap  \n",
       "1409       351878  146.111166  \n",
       "1410       430863  146.126086  \n",
       "1411       364779  146.022670  \n",
       "1412       514473  148.010325  \n",
       "1413       407701  148.919361  "
      ]
     },
     "execution_count": 80,
     "metadata": {},
     "output_type": "execute_result"
    }
   ],
   "source": [
    "df[\"close\"] =  df['close'] * 100\n",
    "df[\"high\"]  =  df['high']  * 100\n",
    "df[\"low\"]   =  df['low']   * 100\n",
    "split_percentage = 0.8\n",
    "split = int(split_percentage*len(df))\n",
    "a =  df[split:]\n",
    "a.head()"
   ]
  },
  {
   "cell_type": "code",
   "execution_count": 81,
   "metadata": {},
   "outputs": [],
   "source": [
    "df['future_returns'] = df['close'].pct_change().shift(-1)\n",
    "signal=[]\n",
    "for i in range(len(df)):\n",
    "            if (df['future_returns'][i]  > 0):\n",
    "                signal.append(1)\n",
    "            elif (df['future_returns'][i] < 0):\n",
    "                signal.append(0)\n",
    "            else:\n",
    "                signal.append(0)\n",
    "df['signal']=signal\n",
    "\n",
    "df['High - Close']=(df['high']- df[\"close\"]).shift(-1)\n",
    "df['Close - Low']=(df[\"close\"]- df['low']).shift(-1)\n",
    "df['df3'] = df['High - Close'] * df['Close - Low']\n",
    "df.dropna(inplace=True)\n",
    "y = df[['signal']].copy()\n",
    "X = df[['Close - Low','High - Close']].copy()"
   ]
  },
  {
   "cell_type": "code",
   "execution_count": 82,
   "metadata": {},
   "outputs": [
    {
     "name": "stdout",
     "output_type": "stream",
     "text": [
      "0.8356940509915014\n"
     ]
    },
    {
     "data": {
      "text/plain": [
       "0.028025388717651367"
      ]
     },
     "execution_count": 82,
     "metadata": {},
     "output_type": "execute_result"
    }
   ],
   "source": [
    "import time\n",
    "split_percentage = 0.8\n",
    "split = int(split_percentage*len(df))\n",
    "# Train data set\n",
    "X_train = X[:split]\n",
    "y_train = y[:split]\n",
    "X_test =  X[split:]\n",
    "y_test =  y[split:]\n",
    "model = KNeighborsClassifier(n_neighbors= 9)\n",
    "model.fit(X_train, y_train['signal'])\n",
    "start_time = time.time()\n",
    "\n",
    "y_pred = model.predict(X_test)\n",
    "# get end time\n",
    "end_time = time.time()\n",
    "\n",
    "# calculate elapsed time\n",
    "elapsed_time = end_time - start_time\n",
    "Accuracy =accuracy_score(y_test, y_pred)\n",
    "print(Accuracy)\n",
    "elapsed_time"
   ]
  },
  {
   "cell_type": "code",
   "execution_count": 83,
   "metadata": {},
   "outputs": [],
   "source": [
    "X_train.to_csv(\"X_train.csv\")\n",
    "X_test.to_csv(\"X_test.csv\")\n",
    "y_test.to_csv(\"y_test.csv\")"
   ]
  },
  {
   "cell_type": "code",
   "execution_count": 84,
   "metadata": {},
   "outputs": [
    {
     "data": {
      "text/plain": [
       "array([0, 0, 0, 1, 1, 1, 0, 0, 1, 1, 1, 0, 0, 0, 1, 1, 0, 0, 0, 1, 1, 0,\n",
       "       0, 0, 0, 0, 1, 1, 0, 0, 0, 1, 1, 1, 1, 0, 0, 0, 1, 0, 1, 1, 0, 0,\n",
       "       0, 0, 1, 1, 1, 1, 1, 1, 1, 0, 0, 0, 0, 1, 1, 1, 0, 1, 0, 1, 0, 0,\n",
       "       0, 0, 1, 0, 1, 1, 1, 1, 0, 1, 1, 0, 1, 1, 0, 1, 0, 0, 1, 1, 0, 1,\n",
       "       0, 0, 1, 0, 0, 1, 1, 1, 0, 1, 0, 1, 0, 0, 1, 0, 0, 0, 0, 1, 1, 0,\n",
       "       0, 1, 0, 0, 0, 0, 1, 1, 0, 0, 1, 1, 1, 1, 0, 0, 0, 1, 1, 0, 0, 1,\n",
       "       1, 1, 0, 0, 0, 0, 1, 1, 1, 0, 1, 0, 0, 0, 0, 1, 1, 0, 0, 1, 1, 1,\n",
       "       1, 1, 1, 0, 1, 1, 1, 1, 0, 0, 1, 1, 0, 0, 1, 0, 0, 0, 1, 0, 0, 1,\n",
       "       0, 0, 0, 1, 0, 0, 1, 0, 1, 1, 1, 0, 1, 0, 0, 0, 0, 1, 0, 1, 0, 0,\n",
       "       1, 1, 1, 1, 1, 1, 1, 0, 1, 0, 0, 1, 0, 0, 0, 0, 0, 1, 0, 1, 1, 0,\n",
       "       1, 1, 0, 0, 1, 1, 1, 1, 1, 1, 1, 0, 0, 1, 1, 1, 0, 1, 1, 1, 0, 0,\n",
       "       0, 1, 1, 1, 0, 0, 1, 0, 1, 0, 1, 1, 0, 1, 1, 1, 1, 1, 0, 0, 0, 1,\n",
       "       1, 0, 0, 0, 0, 1, 0, 0, 1, 0, 1, 1, 0, 0, 0, 1, 1, 1, 0, 1, 1, 0,\n",
       "       0, 1, 0, 0, 1, 1, 1, 0, 0, 1, 0, 0, 1, 0, 1, 1, 1, 0, 1, 1, 1, 0,\n",
       "       0, 1, 1, 0, 0, 0, 0, 1, 1, 0, 1, 1, 0, 0, 1, 1, 0, 0, 1, 1, 0, 0,\n",
       "       0, 1, 1, 1, 0, 0, 0, 1, 0, 1, 0, 0, 0, 0, 0, 1, 1, 1, 1, 0, 0, 1,\n",
       "       1], dtype=int64)"
      ]
     },
     "execution_count": 84,
     "metadata": {},
     "output_type": "execute_result"
    }
   ],
   "source": [
    "y_pred"
   ]
  },
  {
   "attachments": {},
   "cell_type": "markdown",
   "metadata": {},
   "source": [
    "# Basic KNN"
   ]
  },
  {
   "cell_type": "code",
   "execution_count": 85,
   "metadata": {},
   "outputs": [
    {
     "ename": "SyntaxError",
     "evalue": "invalid syntax. Perhaps you forgot a comma? (3367581813.py, line 7)",
     "output_type": "error",
     "traceback": [
      "\u001b[1;36m  Cell \u001b[1;32mIn[85], line 7\u001b[1;36m\u001b[0m\n\u001b[1;33m    Temp1ist'][j] = ['dTemp['X_test'].iloc[1] - Temp1['X_train'].iloc[j]\u001b[0m\n\u001b[1;37m            ^\u001b[0m\n\u001b[1;31mSyntaxError\u001b[0m\u001b[1;31m:\u001b[0m invalid syntax. Perhaps you forgot a comma?\n"
     ]
    }
   ],
   "source": [
    "Temp = pd.DataFrame() \n",
    "Temp1 = pd.DataFrame() \n",
    "Temp['X_test'] = X_test\n",
    "Temp1['X_train'] = X_train\n",
    "# for i in range(len(X_test)):\n",
    "for j in range(len(X_train)):\n",
    "    Temp1ist'][j] = ['dTemp['X_test'].iloc[1] - Temp1['X_train'].iloc[j]\n",
    "\n",
    "Temp1['dist'].tail()"
   ]
  }
 ],
 "metadata": {
  "kernelspec": {
   "display_name": "Python 3",
   "language": "python",
   "name": "python3"
  },
  "language_info": {
   "codemirror_mode": {
    "name": "ipython",
    "version": 3
   },
   "file_extension": ".py",
   "mimetype": "text/x-python",
   "name": "python",
   "nbconvert_exporter": "python",
   "pygments_lexer": "ipython3",
   "version": "3.10.0"
  },
  "orig_nbformat": 4,
  "vscode": {
   "interpreter": {
    "hash": "5882ba6122f62198db6039148c67d3ce3a1c559033ca7ae2db1ffe38235b7f99"
   }
  }
 },
 "nbformat": 4,
 "nbformat_minor": 2
}
