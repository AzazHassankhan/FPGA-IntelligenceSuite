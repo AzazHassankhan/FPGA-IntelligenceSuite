{
 "cells": [
  {
   "cell_type": "code",
   "execution_count": 60,
   "metadata": {},
   "outputs": [],
   "source": [
    "import plotly.offline as pox\n",
    "import plotly.graph_objs as go\n",
    "import numpy as np\n",
    "import talib as tl\n",
    "import matplotlib.pyplot as plt\n",
    "import pandas as pd\n",
    "import numpy as np\n",
    "import talib as ta\n",
    "from sklearn.model_selection import train_test_split\n",
    "from sklearn.metrics import accuracy_score,classification_report\n",
    "import alpaca_trade_api as tradeapi\n",
    "from alpaca_trade_api import TimeFrame, TimeFrameUnit\n",
    "from sklearn.ensemble import RandomForestClassifier\n",
    "from sklearn.preprocessing import StandardScaler\n",
    "import seaborn as sns\n",
    "from matplotlib.pyplot import figure\n",
    "from statsmodels.tsa.stattools import adfuller\n",
    "from sklearn.svm import SVC\n",
    "from sklearn.neighbors import KNeighborsClassifier\n",
    "from sklearn.linear_model import LogisticRegression\n",
    "from sklearn.ensemble import AdaBoostClassifier\n",
    "import time\n"
   ]
  },
  {
   "cell_type": "code",
   "execution_count": 61,
   "metadata": {},
   "outputs": [
    {
     "data": {
      "text/html": [
       "<div>\n",
       "<style scoped>\n",
       "    .dataframe tbody tr th:only-of-type {\n",
       "        vertical-align: middle;\n",
       "    }\n",
       "\n",
       "    .dataframe tbody tr th {\n",
       "        vertical-align: top;\n",
       "    }\n",
       "\n",
       "    .dataframe thead th {\n",
       "        text-align: right;\n",
       "    }\n",
       "</style>\n",
       "<table border=\"1\" class=\"dataframe\">\n",
       "  <thead>\n",
       "    <tr style=\"text-align: right;\">\n",
       "      <th></th>\n",
       "      <th>timestamp</th>\n",
       "      <th>open</th>\n",
       "      <th>high</th>\n",
       "      <th>low</th>\n",
       "      <th>close</th>\n",
       "      <th>volume</th>\n",
       "      <th>trade_count</th>\n",
       "      <th>vwap</th>\n",
       "    </tr>\n",
       "  </thead>\n",
       "  <tbody>\n",
       "    <tr>\n",
       "      <th>0</th>\n",
       "      <td>2016-01-04 05:00:00+00:00</td>\n",
       "      <td>102.61</td>\n",
       "      <td>105.368</td>\n",
       "      <td>102.00</td>\n",
       "      <td>105.35</td>\n",
       "      <td>67611658</td>\n",
       "      <td>351450</td>\n",
       "      <td>104.048524</td>\n",
       "    </tr>\n",
       "    <tr>\n",
       "      <th>1</th>\n",
       "      <td>2016-01-05 05:00:00+00:00</td>\n",
       "      <td>105.75</td>\n",
       "      <td>105.850</td>\n",
       "      <td>102.41</td>\n",
       "      <td>102.71</td>\n",
       "      <td>55787192</td>\n",
       "      <td>321363</td>\n",
       "      <td>103.415766</td>\n",
       "    </tr>\n",
       "    <tr>\n",
       "      <th>2</th>\n",
       "      <td>2016-01-06 05:00:00+00:00</td>\n",
       "      <td>100.48</td>\n",
       "      <td>102.370</td>\n",
       "      <td>99.87</td>\n",
       "      <td>100.70</td>\n",
       "      <td>68340388</td>\n",
       "      <td>409162</td>\n",
       "      <td>100.852488</td>\n",
       "    </tr>\n",
       "    <tr>\n",
       "      <th>3</th>\n",
       "      <td>2016-01-07 05:00:00+00:00</td>\n",
       "      <td>98.63</td>\n",
       "      <td>100.130</td>\n",
       "      <td>96.43</td>\n",
       "      <td>96.45</td>\n",
       "      <td>81094357</td>\n",
       "      <td>462834</td>\n",
       "      <td>98.069324</td>\n",
       "    </tr>\n",
       "    <tr>\n",
       "      <th>4</th>\n",
       "      <td>2016-01-08 05:00:00+00:00</td>\n",
       "      <td>98.55</td>\n",
       "      <td>99.110</td>\n",
       "      <td>96.76</td>\n",
       "      <td>96.96</td>\n",
       "      <td>70797966</td>\n",
       "      <td>419804</td>\n",
       "      <td>97.923007</td>\n",
       "    </tr>\n",
       "  </tbody>\n",
       "</table>\n",
       "</div>"
      ],
      "text/plain": [
       "                  timestamp    open     high     low   close    volume  \\\n",
       "0 2016-01-04 05:00:00+00:00  102.61  105.368  102.00  105.35  67611658   \n",
       "1 2016-01-05 05:00:00+00:00  105.75  105.850  102.41  102.71  55787192   \n",
       "2 2016-01-06 05:00:00+00:00  100.48  102.370   99.87  100.70  68340388   \n",
       "3 2016-01-07 05:00:00+00:00   98.63  100.130   96.43   96.45  81094357   \n",
       "4 2016-01-08 05:00:00+00:00   98.55   99.110   96.76   96.96  70797966   \n",
       "\n",
       "   trade_count        vwap  \n",
       "0       351450  104.048524  \n",
       "1       321363  103.415766  \n",
       "2       409162  100.852488  \n",
       "3       462834   98.069324  \n",
       "4       419804   97.923007  "
      ]
     },
     "execution_count": 61,
     "metadata": {},
     "output_type": "execute_result"
    }
   ],
   "source": [
    "SEC_KEY = 'IBpWZnzOVLT8nUNZMwbfWg9oV0sZrkAHPQYtsRFP'\n",
    "PUB_KEY ='PKBEIUYRXMQIO5JXOBAJ'\n",
    "BASE_URL ='https://paper-api.alpaca.markets'\n",
    "api = tradeapi.REST(key_id= PUB_KEY, secret_key=SEC_KEY, base_url=BASE_URL) # For real trading, don't enter a base_url\n",
    "df = api.get_bars(\"AAPL\", TimeFrame(1, TimeFrameUnit.Day), \"2016-01-01\", \"2023-01-01\").df # Get one bar object for each of the past 5 minutes\n",
    "df.reset_index(inplace=True)\n",
    "df.head()"
   ]
  },
  {
   "cell_type": "code",
   "execution_count": 62,
   "metadata": {},
   "outputs": [],
   "source": [
    "# temp = pd.DataFrame()\n",
    "# temp[\"Close\"] =  df['close'] * 100\n",
    "# temp[\"High\"]  =  df['high']  * 100\n",
    "# temp[\"Low\"]   =  df['low']   * 100\n",
    "# split_percentage = 0.8\n",
    "# split = int(split_percentage*len(df))\n",
    "# temp =  temp[split:]\n",
    "# temp.to_csv('TSLA_STOCKS')"
   ]
  },
  {
   "cell_type": "code",
   "execution_count": 63,
   "metadata": {},
   "outputs": [],
   "source": [
    "df['future_returns'] = df['close'].pct_change().shift(-1)\n",
    "signal=[]\n",
    "for i in range(len(df)):\n",
    "            if (df['future_returns'][i]  > 0):\n",
    "                signal.append(1)\n",
    "            elif (df['future_returns'][i] < 0):\n",
    "                signal.append(0)\n",
    "            else:\n",
    "                signal.append(0)\n",
    "df['signal']=signal\n",
    "df['High - Close']=(df['high']- df[\"close\"]).shift(-1)\n",
    "df['Close - Low']=(df[\"close\"]- df['low']).shift(-1)\n",
    "df.dropna(inplace=True)\n",
    "y = df[['signal']].copy()\n",
    "X = df[['High - Close','Close - Low']].copy()"
   ]
  },
  {
   "cell_type": "code",
   "execution_count": 64,
   "metadata": {},
   "outputs": [
    {
     "name": "stdout",
     "output_type": "stream",
     "text": [
      "0.8271954674220963\n"
     ]
    }
   ],
   "source": [
    "split_percentage = 0.8\n",
    "split = int(split_percentage*len(df))\n",
    "# Train data set\n",
    "X_train = X[:split]\n",
    "y_train = y[:split]\n",
    "X_test =  X[split:]\n",
    "y_test =  y[split:]\n",
    "model = LogisticRegression()\n",
    "model.fit(X_train, y_train['signal'])\n",
    "y_pred = model.predict(X_test)\n",
    "Accuracy =accuracy_score(y_test, y_pred)\n",
    "print(Accuracy)"
   ]
  },
  {
   "attachments": {},
   "cell_type": "markdown",
   "metadata": {},
   "source": [
    "# Intercept"
   ]
  },
  {
   "cell_type": "code",
   "execution_count": 65,
   "metadata": {},
   "outputs": [
    {
     "data": {
      "text/plain": [
       "array([0.43229291])"
      ]
     },
     "execution_count": 65,
     "metadata": {},
     "output_type": "execute_result"
    }
   ],
   "source": [
    "model.intercept_"
   ]
  },
  {
   "attachments": {},
   "cell_type": "markdown",
   "metadata": {},
   "source": [
    "# Coeffiencent\n"
   ]
  },
  {
   "cell_type": "code",
   "execution_count": 66,
   "metadata": {},
   "outputs": [
    {
     "data": {
      "text/plain": [
       "array([[-0.81389859,  0.54140236]])"
      ]
     },
     "execution_count": 66,
     "metadata": {},
     "output_type": "execute_result"
    }
   ],
   "source": [
    "model.coef_"
   ]
  },
  {
   "cell_type": "code",
   "execution_count": 67,
   "metadata": {},
   "outputs": [
    {
     "data": {
      "text/plain": [
       "array([1, 0, 0, 1, 1, 1, 0, 0, 1, 1, 1, 0, 0, 0, 1, 1, 0, 0, 1, 1, 1, 0,\n",
       "       0, 0, 0, 0, 1, 1, 0, 0, 0, 1, 1, 1, 1, 0, 0, 0, 1, 0, 1, 1, 0, 0,\n",
       "       0, 0, 1, 1, 1, 1, 1, 1, 1, 0, 1, 0, 0, 1, 1, 1, 0, 1, 0, 1, 0, 1,\n",
       "       0, 0, 1, 0, 1, 1, 1, 1, 0, 1, 1, 0, 1, 1, 0, 1, 0, 0, 1, 1, 0, 1,\n",
       "       0, 0, 1, 0, 0, 1, 1, 1, 1, 1, 0, 1, 0, 0, 1, 0, 0, 0, 0, 1, 1, 0,\n",
       "       0, 1, 0, 0, 0, 0, 1, 0, 0, 0, 1, 1, 1, 1, 0, 0, 0, 1, 1, 0, 0, 1,\n",
       "       1, 1, 0, 0, 0, 0, 1, 1, 1, 0, 1, 0, 0, 0, 0, 1, 1, 0, 0, 1, 1, 1,\n",
       "       1, 1, 1, 0, 1, 1, 1, 1, 0, 0, 1, 1, 0, 0, 1, 0, 0, 0, 1, 0, 1, 1,\n",
       "       0, 0, 0, 1, 0, 0, 1, 0, 1, 1, 1, 0, 1, 0, 0, 0, 0, 1, 0, 1, 0, 0,\n",
       "       1, 1, 1, 1, 1, 1, 1, 0, 1, 0, 0, 1, 0, 0, 0, 0, 1, 1, 0, 1, 1, 0,\n",
       "       1, 1, 0, 0, 1, 1, 1, 1, 1, 1, 1, 0, 0, 1, 1, 1, 0, 1, 1, 1, 0, 0,\n",
       "       0, 1, 1, 1, 0, 0, 1, 1, 1, 0, 1, 1, 0, 1, 1, 1, 1, 1, 0, 0, 0, 1,\n",
       "       1, 0, 1, 0, 0, 1, 0, 0, 1, 0, 1, 1, 0, 0, 0, 1, 1, 1, 0, 1, 1, 0,\n",
       "       0, 1, 0, 0, 1, 1, 1, 0, 0, 1, 0, 0, 1, 0, 1, 0, 1, 0, 1, 1, 1, 0,\n",
       "       0, 1, 1, 0, 0, 0, 0, 1, 0, 0, 1, 1, 0, 0, 1, 1, 0, 0, 1, 1, 1, 0,\n",
       "       0, 1, 1, 1, 0, 0, 0, 1, 0, 1, 0, 0, 0, 0, 0, 1, 1, 0, 1, 1, 0, 1,\n",
       "       1], dtype=int64)"
      ]
     },
     "execution_count": 67,
     "metadata": {},
     "output_type": "execute_result"
    }
   ],
   "source": [
    "y_pred"
   ]
  },
  {
   "attachments": {},
   "cell_type": "markdown",
   "metadata": {},
   "source": [
    "# Exp 28"
   ]
  },
  {
   "cell_type": "code",
   "execution_count": 90,
   "metadata": {},
   "outputs": [
    {
     "data": {
      "text/plain": [
       "0.020013093948364258"
      ]
     },
     "execution_count": 90,
     "metadata": {},
     "output_type": "execute_result"
    }
   ],
   "source": [
    "k1=[]\n",
    "decision = []\n",
    "# get start time\n",
    "for n in range(len(X_test)):\n",
    "    \n",
    "    inercept =  0.43229291\n",
    "    a = (-0.81389859)*X_test['High - Close'].iloc[n]\n",
    "    b = (0.54140236)*X_test['Close - Low'].iloc[n]\n",
    "    x = inercept + a + b\n",
    "\n",
    "    r = 0\n",
    "    p = 1\n",
    "    f = 1\n",
    "    for i in range(1,4):\n",
    "        r = ((r*f) + p)/f\n",
    "        p =  p * x\n",
    "        f = f * i *(4)\n",
    "    k1.append(r)\n",
    "    if r >1:\n",
    "        decision.append(1)\n",
    "    else:\n",
    "        decision.append(0)\n",
    "# calculate elapsed time\n",
    "elapsed_time = end_time - start_time\n",
    "elapsed_time"
   ]
  },
  {
   "cell_type": "code",
   "execution_count": 69,
   "metadata": {},
   "outputs": [
    {
     "data": {
      "text/plain": [
       "0.8271954674220963"
      ]
     },
     "execution_count": 69,
     "metadata": {},
     "output_type": "execute_result"
    }
   ],
   "source": [
    "Accuracy =accuracy_score(y_test,  decision)\n",
    "Accuracy"
   ]
  }
 ],
 "metadata": {
  "kernelspec": {
   "display_name": "Python 3",
   "language": "python",
   "name": "python3"
  },
  "language_info": {
   "codemirror_mode": {
    "name": "ipython",
    "version": 3
   },
   "file_extension": ".py",
   "mimetype": "text/x-python",
   "name": "python",
   "nbconvert_exporter": "python",
   "pygments_lexer": "ipython3",
   "version": "3.10.0"
  },
  "orig_nbformat": 4,
  "vscode": {
   "interpreter": {
    "hash": "5882ba6122f62198db6039148c67d3ce3a1c559033ca7ae2db1ffe38235b7f99"
   }
  }
 },
 "nbformat": 4,
 "nbformat_minor": 2
}
